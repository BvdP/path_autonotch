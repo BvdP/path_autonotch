{
 "cells": [
  {
   "cell_type": "markdown",
   "metadata": {},
   "source": [
    "Matrix equation for ellipse, taken from the Wikipedia page on matrix representation on conic sections.\n",
    "\n",
    "The aim of this document is to map any ellipse, that can be rotated, translated and skewed to a standard ellipse equation."
   ]
  },
  {
   "cell_type": "code",
   "execution_count": 88,
   "metadata": {
    "collapsed": true
   },
   "outputs": [],
   "source": [
    "from sympy import *\n",
    "init_printing(num_columns=120)\n",
    "x, y = symbols('x y')\n",
    "A, B, C, D, E, F = symbols('A B C D E F')"
   ]
  },
  {
   "cell_type": "markdown",
   "metadata": {},
   "source": []
  },
  {
   "cell_type": "code",
   "execution_count": 89,
   "metadata": {
    "collapsed": true
   },
   "outputs": [],
   "source": [
    "Aq = Matrix([\n",
    "    [A, B/2, D/2],\n",
    "    [B/2, C, E/2],\n",
    "    [D/2, E/2, F]\n",
    "]) \n",
    "A33 = Aq.minorMatrix(2, 2)"
   ]
  },
  {
   "cell_type": "code",
   "execution_count": 90,
   "metadata": {
    "collapsed": false
   },
   "outputs": [
    {
     "name": "stdout",
     "output_type": "stream",
     "text": [
      "       2\n",
      "      B \n",
      "A⋅C - ──\n",
      "      4 \n"
     ]
    }
   ],
   "source": [
    "d = A33.det()\n",
    "pprint(A33.det())"
   ]
  },
  {
   "cell_type": "markdown",
   "metadata": {},
   "source": [
    "This determinant indicates the type of conic section\n",
    " * d = 0 : parabola\n",
    " * d < 0 : hyperbola\n",
    " * d > 0 : ellipse"
   ]
  },
  {
   "cell_type": "code",
   "execution_count": 91,
   "metadata": {
    "collapsed": false
   },
   "outputs": [
    {
     "name": "stdout",
     "output_type": "stream",
     "text": [
      "⎡   2              2                ⎤\n",
      "⎣A⋅x  + B⋅x⋅y + C⋅y  + D⋅x + E⋅y + F⎦\n"
     ]
    }
   ],
   "source": [
    "#print(\"Equation\")\n",
    "X = Matrix([x, y, 1])\n",
    "pprint(simplify(X.T * Aq * X))"
   ]
  },
  {
   "cell_type": "markdown",
   "metadata": {},
   "source": [
    "The center of the ellipse is this:"
   ]
  },
  {
   "cell_type": "code",
   "execution_count": 92,
   "metadata": {
    "collapsed": false
   },
   "outputs": [
    {
     "name": "stdout",
     "output_type": "stream",
     "text": [
      "⎡    ⎛           2      ⎞                ⎤\n",
      "⎢    ⎜1         B       ⎟                ⎥\n",
      "⎢  D⋅⎜─ + ──────────────⎟                ⎥\n",
      "⎢    ⎜A        ⎛      2⎞⎟                ⎥\n",
      "⎢    ⎜       2 ⎜     B ⎟⎟                ⎥\n",
      "⎢    ⎜    4⋅A ⋅⎜C - ───⎟⎟                ⎥\n",
      "⎢    ⎝         ⎝    4⋅A⎠⎠        B⋅E     ⎥\n",
      "⎢- ────────────────────── + ─────────────⎥\n",
      "⎢            2                  ⎛      2⎞⎥\n",
      "⎢                               ⎜     B ⎟⎥\n",
      "⎢                           4⋅A⋅⎜C - ───⎟⎥\n",
      "⎢                               ⎝    4⋅A⎠⎥\n",
      "⎢                                        ⎥\n",
      "⎢            E             B⋅D           ⎥\n",
      "⎢     - ─────────── + ─────────────      ⎥\n",
      "⎢         ⎛      2⎞       ⎛      2⎞      ⎥\n",
      "⎢         ⎜     B ⎟       ⎜     B ⎟      ⎥\n",
      "⎢       2⋅⎜C - ───⎟   4⋅A⋅⎜C - ───⎟      ⎥\n",
      "⎣         ⎝    4⋅A⎠       ⎝    4⋅A⎠      ⎦\n"
     ]
    }
   ],
   "source": [
    "Ctr = A33.inv() * -Aq[0:2, 2]\n",
    "pprint(Ctr)\n"
   ]
  },
  {
   "cell_type": "markdown",
   "metadata": {},
   "source": [
    "Or try the centered equation of a conic section.\n",
    "xc, yc represents the center of the ellipse so if you subtract it the resulting ellipse will be centered around the origin."
   ]
  },
  {
   "cell_type": "code",
   "execution_count": 93,
   "metadata": {
    "collapsed": false
   },
   "outputs": [
    {
     "name": "stdout",
     "output_type": "stream",
     "text": [
      "⎡         ⎛             B⋅(y - yc)⎞            ⎛B⋅(x - xc)             ⎞⎤\n",
      "⎢(x - xc)⋅⎜A⋅(x - xc) + ──────────⎟ + (y - yc)⋅⎜────────── + C⋅(y - yc)⎟⎥\n",
      "⎣         ⎝                 2     ⎠            ⎝    2                  ⎠⎦\n",
      "            2    2                2\n",
      "         A⋅E    B ⋅F   B⋅D⋅E   C⋅D \n",
      "-A⋅C⋅F + ──── + ──── - ───── + ────\n",
      "          4      4       4      4  \n",
      "───────────────────────────────────\n",
      "                     2             \n",
      "                    B              \n",
      "              A⋅C - ──             \n",
      "                    4              \n"
     ]
    }
   ],
   "source": [
    "xc, yc = symbols('xc yc')\n",
    "Xc = Matrix([x - xc, y - yc])\n",
    "# cEq = Eq(Xc.T * A33 * Xc, -Aq.det() / A33.det())\n",
    "K = -Aq.det() / A33.det()\n",
    "ce  = Xc.T * A33 * Xc\n",
    "pprint(ce) \n",
    "pprint(K)"
   ]
  },
  {
   "cell_type": "markdown",
   "metadata": {},
   "source": [
    "The math above was exploring some matrix forms of conic sections .Now try the matrix equation for an centered ellipse.\n",
    "\n",
    "\n",
    "These are all in the form of [x, y] * M * [x y].T .\n",
    "\n",
    "The idea is that a transformed ellipse is still an ellipse *(it is right?)*."
   ]
  },
  {
   "cell_type": "code",
   "execution_count": 94,
   "metadata": {
    "collapsed": false
   },
   "outputs": [
    {
     "name": "stdout",
     "output_type": "stream",
     "text": [
      "centered ellipse\n",
      "⎡1     ⎤\n",
      "⎢──  0 ⎥\n",
      "⎢ 2    ⎥\n",
      "⎢a     ⎥\n",
      "⎢      ⎥\n",
      "⎢    1 ⎥\n",
      "⎢0   ──⎥\n",
      "⎢     2⎥\n",
      "⎣    b ⎦\n"
     ]
    }
   ],
   "source": [
    "print('centered ellipse')\n",
    "# B = D = E = 0, F = -1\n",
    "a, b = symbols('a b')\n",
    "Ace = A33.subs([(A, 1 / a ** 2), (B, 0), (C, 1 / b ** 2)])\n",
    "pprint(Ace)"
   ]
  },
  {
   "cell_type": "markdown",
   "metadata": {},
   "source": [
    "# Rotated centered ellipse.\n",
    "\n",
    "Take the equation from the previous part and rotate it."
   ]
  },
  {
   "cell_type": "code",
   "execution_count": 95,
   "metadata": {
    "collapsed": false
   },
   "outputs": [
    {
     "name": "stdout",
     "output_type": "stream",
     "text": [
      "⎡          2          2                                              ⎤\n",
      "⎢       sin (al)   cos (al)         sin(al)⋅cos(al)   sin(al)⋅cos(al)⎥\n",
      "⎢       ──────── + ────────         ─────────────── - ───────────────⎥\n",
      "⎢           2          2                    2                 2      ⎥\n",
      "⎢         b₁         a₁                   b₁                a₁       ⎥\n",
      "⎢                                                                    ⎥\n",
      "⎢                                             2          2           ⎥\n",
      "⎢sin(al)⋅cos(al)   sin(al)⋅cos(al)         cos (al)   sin (al)       ⎥\n",
      "⎢─────────────── - ───────────────         ──────── + ────────       ⎥\n",
      "⎢        2                 2                   2          2          ⎥\n",
      "⎣      b₁                a₁                  b₁         a₁           ⎦\n"
     ]
    }
   ],
   "source": [
    "al = symbols('al') # actually alpha, angle of rotation\n",
    "a1, b1 = symbols('a1 b1')\n",
    "Tr = Matrix([[cos(al), -sin(al)], [sin(al), cos(al)]])\n",
    "Ar = Tr.T * Ace.subs([(a, a1), (b, b1)]) * Tr\n",
    "pprint(Ar)"
   ]
  },
  {
   "cell_type": "markdown",
   "metadata": {},
   "source": [
    "# Skew transformed version of an ellipse\n"
   ]
  },
  {
   "cell_type": "code",
   "execution_count": 96,
   "metadata": {
    "collapsed": false
   },
   "outputs": [
    {
     "name": "stdout",
     "output_type": "stream",
     "text": [
      "⎡  2           ⎤\n",
      "⎢ l     1    l ⎥\n",
      "⎢─── + ───  ───⎥\n",
      "⎢  2     2    2⎥\n",
      "⎢b₂    a₂   b₂ ⎥\n",
      "⎢              ⎥\n",
      "⎢    l       1 ⎥\n",
      "⎢   ───     ───⎥\n",
      "⎢     2       2⎥\n",
      "⎣   b₂      b₂ ⎦\n"
     ]
    }
   ],
   "source": [
    "l = symbols('l') # actually lambda or tan(alpha)\n",
    "a2, b2 = symbols('a2 b2')\n",
    "Tsx = Matrix([[1, l], [0, 1]])\n",
    "Tsy = Matrix([[1, 0], [l, 1]])\n",
    "# now transformed you get (Ts * Xc).T * A33 * Ts * Xc = K' (figure out K')\n",
    "# or Xc.T * Ts.T * A33 * Ts * Xc = K' \n",
    "# in other words the Matrix changes from A33 to Ts.T * A33 * Ts \n",
    "Asy = Tsy.T * Ace.subs([(a, a2), (b, b2)]) * Tsy\n",
    "pprint(Asy)"
   ]
  },
  {
   "cell_type": "markdown",
   "metadata": {},
   "source": [
    "Putting it all together."
   ]
  },
  {
   "cell_type": "code",
   "execution_count": 97,
   "metadata": {
    "collapsed": false
   },
   "outputs": [
    {
     "name": "stdout",
     "output_type": "stream",
     "text": [
      " l    sin(al)⋅cos(al)   sin(al)⋅cos(al)\n",
      "─── = ─────────────── - ───────────────\n",
      "  2           2                 2      \n",
      "b₂          b₁                a₁       \n",
      "         2          2    \n",
      " 1    cos (al)   sin (al)\n",
      "─── = ──────── + ────────\n",
      "  2       2          2   \n",
      "b₂      b₁         a₁    \n",
      "  2            2          2    \n",
      " l     1    sin (al)   cos (al)\n",
      "─── + ─── = ──────── + ────────\n",
      "  2     2       2          2   \n",
      "b₂    a₂      b₁         a₁    \n"
     ]
    }
   ],
   "source": [
    "#lEq = Eq(l, Ar[0, 1] / Ar[1, 1])\n",
    "lEq = Eq(Asy[0, 1], Ar[0, 1])\n",
    "pprint(lEq)\n",
    "b2Eq = Eq(Asy[1, 1], Ar[1, 1])\n",
    "pprint(b2Eq)\n",
    "a2Eq = Eq(Asy[0, 0], Ar[0, 0])\n",
    "pprint(a2Eq)"
   ]
  },
  {
   "cell_type": "code",
   "execution_count": 98,
   "metadata": {
    "collapsed": false
   },
   "outputs": [
    {
     "name": "stdout",
     "output_type": "stream",
     "text": [
      "     2   2     \n",
      "   a₁ ⋅b₁ ⋅l   \n",
      "───────────────\n",
      "  2 ⎛  2     2⎞\n",
      "b₂ ⋅⎝a₁  - b₁ ⎠\n"
     ]
    }
   ],
   "source": [
    "sin_cos_al = solve(lEq, sin(al)*cos(al))[0]\n",
    "pprint(sin_cos_al)"
   ]
  },
  {
   "cell_type": "raw",
   "metadata": {},
   "source": [
    "Since sin(a + b) = sin(a)*cos(b) + cos(a)*sin(b). If set a and b both to al we get:\n",
    "sin(2*al) = 2*sin(al)*cos(al)"
   ]
  },
  {
   "cell_type": "code",
   "execution_count": 99,
   "metadata": {
    "collapsed": false
   },
   "outputs": [
    {
     "name": "stdout",
     "output_type": "stream",
     "text": [
      "⎡      ⎛          2   2        ⎞          ⎛          2   2        ⎞⎤\n",
      "⎢      ⎜      2⋅a₁ ⋅b₁ ⋅l      ⎟          ⎜      2⋅a₁ ⋅b₁ ⋅l      ⎟⎥\n",
      "⎢  asin⎜───────────────────────⎟      asin⎜───────────────────────⎟⎥\n",
      "⎢      ⎜  2                    ⎟          ⎜  2                    ⎟⎥\n",
      "⎢      ⎝b₂ ⋅(a₁ - b₁)⋅(a₁ + b₁)⎠   π      ⎝b₂ ⋅(a₁ - b₁)⋅(a₁ + b₁)⎠⎥\n",
      "⎢- ───────────────────────────── + ─, ─────────────────────────────⎥\n",
      "⎣                2                 2                2              ⎦\n"
     ]
    }
   ],
   "source": [
    "pprint(solve(Eq(sin(2*al)/2, sin_cos_al), al))"
   ]
  },
  {
   "cell_type": "markdown",
   "metadata": {},
   "source": [
    "Now solve these for al, a1, b1.\n",
    "**This is _SLOW_** (takes about 20 min on my 2011 vintage laptop)"
   ]
  },
  {
   "cell_type": "code",
   "execution_count": 100,
   "metadata": {
    "collapsed": false
   },
   "outputs": [],
   "source": [
    "res = solve([lEq, b2Eq, a2Eq], [al, a1, b1])"
   ]
  },
  {
   "cell_type": "code",
   "execution_count": 101,
   "metadata": {
    "collapsed": false
   },
   "outputs": [],
   "source": [
    "#print(res) # this produces a lot of output, not very readable"
   ]
  },
  {
   "cell_type": "markdown",
   "metadata": {},
   "source": [
    "In order to try and make sense of it let's try:"
   ]
  },
  {
   "cell_type": "code",
   "execution_count": 102,
   "metadata": {
    "collapsed": false
   },
   "outputs": [
    {
     "name": "stdout",
     "output_type": "stream",
     "text": [
      "⎡      ⎛         ________________________________⎞               ______________________               ⎤\n",
      "⎢      ⎜l⋅x₈ - ╲╱ -4⋅x₁⋅x₈ + x₁₀⋅x₂ + x₁₀ + 4⋅x₉ ⎟              ╱          1                          ⎥\n",
      "⎢2⋅atan⎜─────────────────────────────────────────⎟, -b₂⋅x₁₁⋅   ╱  ──────────────────── ⋅sin(x₁₇), -x₁₁⎥\n",
      "⎢      ⎝            k₁ - x₁ + x₃ + x₇            ⎠            ╱           2                           ⎥\n",
      "⎣                                                           ╲╱    - x₁⋅cos (x₁₇) + x₁₅                ⎦\n",
      "⎡      ⎛         ________________________________⎞              ______________________              ⎤\n",
      "⎢      ⎜l⋅x₈ - ╲╱ -4⋅x₁⋅x₈ + x₁₀⋅x₂ + x₁₀ + 4⋅x₉ ⎟             ╱          1                         ⎥\n",
      "⎢2⋅atan⎜─────────────────────────────────────────⎟, b₂⋅x₁₁⋅   ╱  ──────────────────── ⋅sin(x₁₇), x₁₁⎥\n",
      "⎢      ⎝            k₁ - x₁ + x₃ + x₇            ⎠           ╱           2                          ⎥\n",
      "⎣                                                          ╲╱    - x₁⋅cos (x₁₇) + x₁₅               ⎦\n",
      "⎡      ⎛         ________________________________⎞               ______________________               ⎤\n",
      "⎢      ⎜l⋅x₈ + ╲╱ -4⋅x₁⋅x₈ + x₁₀⋅x₂ + x₁₀ + 4⋅x₉ ⎟              ╱          1                          ⎥\n",
      "⎢2⋅atan⎜─────────────────────────────────────────⎟, -b₂⋅x₁₁⋅   ╱  ──────────────────── ⋅sin(x₁₇), -x₁₁⎥\n",
      "⎢      ⎝            k₁ - x₁ + x₃ + x₇            ⎠            ╱           2                           ⎥\n",
      "⎣                                                           ╲╱    - x₁⋅cos (x₁₇) + x₁₅                ⎦\n",
      "⎡      ⎛         ________________________________⎞              ______________________              ⎤\n",
      "⎢      ⎜l⋅x₈ + ╲╱ -4⋅x₁⋅x₈ + x₁₀⋅x₂ + x₁₀ + 4⋅x₉ ⎟             ╱          1                         ⎥\n",
      "⎢2⋅atan⎜─────────────────────────────────────────⎟, b₂⋅x₁₁⋅   ╱  ──────────────────── ⋅sin(x₁₇), x₁₁⎥\n",
      "⎢      ⎝            k₁ - x₁ + x₃ + x₇            ⎠           ╱           2                          ⎥\n",
      "⎣                                                          ╲╱    - x₁⋅cos (x₁₇) + x₁₅               ⎦\n",
      "⎡      ⎛         ______________________________⎞               ______________________               ⎤\n",
      "⎢      ⎜l⋅x₇ - ╲╱ -4⋅x₁⋅x₇ + x₂⋅x₉ + 4⋅x₈ + x₉ ⎟              ╱          1                          ⎥\n",
      "⎢2⋅atan⎜───────────────────────────────────────⎟, -b₂⋅x₁₀⋅   ╱  ──────────────────── ⋅sin(x₁₆), -x₁₀⎥\n",
      "⎢      ⎝           k₁ - x₁ + x₃ + x₆           ⎠            ╱           2                           ⎥\n",
      "⎣                                                         ╲╱    - x₁⋅cos (x₁₆) + x₁₄                ⎦\n",
      "⎡      ⎛         ______________________________⎞              ______________________              ⎤\n",
      "⎢      ⎜l⋅x₇ - ╲╱ -4⋅x₁⋅x₇ + x₂⋅x₉ + 4⋅x₈ + x₉ ⎟             ╱          1                         ⎥\n",
      "⎢2⋅atan⎜───────────────────────────────────────⎟, b₂⋅x₁₀⋅   ╱  ──────────────────── ⋅sin(x₁₆), x₁₀⎥\n",
      "⎢      ⎝           k₁ - x₁ + x₃ + x₆           ⎠           ╱           2                          ⎥\n",
      "⎣                                                        ╲╱    - x₁⋅cos (x₁₆) + x₁₄               ⎦\n",
      "⎡      ⎛         ______________________________⎞               ______________________               ⎤\n",
      "⎢      ⎜l⋅x₇ + ╲╱ -4⋅x₁⋅x₇ + x₂⋅x₉ + 4⋅x₈ + x₉ ⎟              ╱          1                          ⎥\n",
      "⎢2⋅atan⎜───────────────────────────────────────⎟, -b₂⋅x₁₀⋅   ╱  ──────────────────── ⋅sin(x₁₆), -x₁₀⎥\n",
      "⎢      ⎝           k₁ - x₁ + x₃ + x₆           ⎠            ╱           2                           ⎥\n",
      "⎣                                                         ╲╱    - x₁⋅cos (x₁₆) + x₁₄                ⎦\n",
      "⎡      ⎛         ______________________________⎞              ______________________              ⎤\n",
      "⎢      ⎜l⋅x₇ + ╲╱ -4⋅x₁⋅x₇ + x₂⋅x₉ + 4⋅x₈ + x₉ ⎟             ╱          1                         ⎥\n",
      "⎢2⋅atan⎜───────────────────────────────────────⎟, b₂⋅x₁₀⋅   ╱  ──────────────────── ⋅sin(x₁₆), x₁₀⎥\n",
      "⎢      ⎝           k₁ - x₁ + x₃ + x₆           ⎠           ╱           2                          ⎥\n",
      "⎣                                                        ╲╱    - x₁⋅cos (x₁₆) + x₁₄               ⎦\n",
      "{x8: 2, k1: 1, x6: 1, x5: 1, x17: 2, x14: 2, x3: 1, x4: 1, x10: 2, x13: 2, x15: 2, x12: 2, x7: 2, x9: 2, x16: 3, x11: 2, x2: 1, x1: 1}\n"
     ]
    }
   ],
   "source": [
    "#look for common subexpressions\n",
    "\n",
    "\n",
    "ses = set()\n",
    "for r in res:\n",
    "    subexp, exp = cse(r)\n",
    "    for se in subexp:\n",
    "        ses.add(se)\n",
    "    pprint(exp)\n",
    "    \n",
    "sed = {}\n",
    "for se in ses:\n",
    "    sen = se[0]\n",
    "    if sen in sed:\n",
    "        sed[sen] +=1\n",
    "    else:\n",
    "        sed[sen] = 1\n",
    "\n",
    "print(sed)"
   ]
  },
  {
   "cell_type": "markdown",
   "metadata": {},
   "source": [
    "The eight solutions all have a very similar form, there is some overlap in the subexpressions though."
   ]
  },
  {
   "cell_type": "code",
   "execution_count": 103,
   "metadata": {
    "collapsed": false
   },
   "outputs": [
    {
     "name": "stdout",
     "output_type": "stream",
     "text": [
      "(x14, x13*x2 + x13 - x6/2)\n",
      "(x1, b2**2)\n",
      "(x15, x9/4)\n",
      "(x13, x12*x2 + x12 + x6/2)\n",
      "(x16, 2*atan((l*x14 + sqrt(-2*x1*x14 + x15*x2 + x15 + x8))/(-x11 + x13)))\n",
      "(x16, 2*atan((l*x14 - sqrt(-2*x1*x14 + x15*x2 + x15 + x8))/(-x11 + x13)))\n",
      "(x17, 2*atan((l*x15 + sqrt(-2*x1*x15 + x16*x2 + x16 + x9))/(-x12 + x14)))\n",
      "(x6, sqrt((-x4 + x5)*(x4 + x5)))\n",
      "(x8, x5 + x7)\n",
      "(x17, 2*atan((l*x15 - sqrt(-2*x1*x15 + x16*x2 + x16 + x9))/(-x12 + x14)))\n",
      "(x4, 2*a2*b2)\n",
      "(x12, x1/2)\n",
      "(x12, k1/2)\n",
      "(x9, b2**4)\n",
      "(x5, k1 + x1 + x3)\n",
      "(x13, k1/2)\n",
      "(x14, x11 + x13)\n",
      "(x11, x1/2)\n",
      "(x9, x7**2)\n",
      "(x2, l**2)\n",
      "(x8, b2**4)\n",
      "(x10, x8**2)\n",
      "(x3, k1*x2)\n",
      "(x10, sqrt(2)*sqrt(x7)/2)\n",
      "(x7, x5 + x6)\n",
      "(x11, sqrt(2)*sqrt(x8)/2)\n",
      "(x7, -x6)\n",
      "(x15, x12 + x14)\n",
      "(x16, x10/4)\n",
      "(k1, a2**2)\n"
     ]
    }
   ],
   "source": [
    "for se in ses:\n",
    "    print(se)"
   ]
  },
  {
   "cell_type": "code",
   "execution_count": 104,
   "metadata": {
    "collapsed": false
   },
   "outputs": [
    {
     "data": {
      "text/plain": [
       "['__abs__',\n",
       " '__add__',\n",
       " '__class__',\n",
       " '__complex__',\n",
       " '__delattr__',\n",
       " '__dir__',\n",
       " '__div__',\n",
       " '__doc__',\n",
       " '__eq__',\n",
       " '__float__',\n",
       " '__format__',\n",
       " '__ge__',\n",
       " '__getattribute__',\n",
       " '__getnewargs__',\n",
       " '__getstate__',\n",
       " '__gt__',\n",
       " '__hash__',\n",
       " '__init__',\n",
       " '__int__',\n",
       " '__le__',\n",
       " '__long__',\n",
       " '__lt__',\n",
       " '__mod__',\n",
       " '__module__',\n",
       " '__mul__',\n",
       " '__ne__',\n",
       " '__neg__',\n",
       " '__new__',\n",
       " '__pos__',\n",
       " '__pow__',\n",
       " '__radd__',\n",
       " '__rdiv__',\n",
       " '__reduce__',\n",
       " '__reduce_ex__',\n",
       " '__repr__',\n",
       " '__rmod__',\n",
       " '__rmul__',\n",
       " '__rpow__',\n",
       " '__rsub__',\n",
       " '__rtruediv__',\n",
       " '__setattr__',\n",
       " '__setstate__',\n",
       " '__sizeof__',\n",
       " '__slots__',\n",
       " '__str__',\n",
       " '__sub__',\n",
       " '__subclasshook__',\n",
       " '__truediv__',\n",
       " '_args',\n",
       " '_assumptions',\n",
       " '_compare_pretty',\n",
       " '_diff_wrt',\n",
       " '_eval_adjoint',\n",
       " '_eval_as_leading_term',\n",
       " '_eval_conjugate',\n",
       " '_eval_derivative',\n",
       " '_eval_difference_delta',\n",
       " '_eval_evalf',\n",
       " '_eval_expand_complex',\n",
       " '_eval_expand_multinomial',\n",
       " '_eval_expand_power_base',\n",
       " '_eval_expand_power_exp',\n",
       " '_eval_interval',\n",
       " '_eval_is_algebraic',\n",
       " '_eval_is_algebraic_expr',\n",
       " '_eval_is_complex',\n",
       " '_eval_is_even',\n",
       " '_eval_is_finite',\n",
       " '_eval_is_imaginary',\n",
       " '_eval_is_integer',\n",
       " '_eval_is_negative',\n",
       " '_eval_is_odd',\n",
       " '_eval_is_polar',\n",
       " '_eval_is_polynomial',\n",
       " '_eval_is_positive',\n",
       " '_eval_is_prime',\n",
       " '_eval_is_rational',\n",
       " '_eval_is_rational_function',\n",
       " '_eval_is_real',\n",
       " '_eval_is_zero',\n",
       " '_eval_lseries',\n",
       " '_eval_nseries',\n",
       " '_eval_power',\n",
       " '_eval_refine',\n",
       " '_eval_rewrite',\n",
       " '_eval_subs',\n",
       " '_eval_transpose',\n",
       " '_evalf',\n",
       " '_expand_hint',\n",
       " '_explicit_class_assumptions',\n",
       " '_from_mpmath',\n",
       " '_has',\n",
       " '_has_matcher',\n",
       " '_hashable_content',\n",
       " '_mhash',\n",
       " '_op_priority',\n",
       " '_parse_order',\n",
       " '_prop_handler',\n",
       " '_random',\n",
       " '_recursive_call',\n",
       " '_sage_',\n",
       " '_sorted_args',\n",
       " '_subs',\n",
       " '_taylor_term',\n",
       " '_to_mpmath',\n",
       " '_xreplace',\n",
       " 'adjoint',\n",
       " 'apart',\n",
       " 'args',\n",
       " 'args_cnc',\n",
       " 'as_base_exp',\n",
       " 'as_coeff_Add',\n",
       " 'as_coeff_Mul',\n",
       " 'as_coeff_add',\n",
       " 'as_coeff_exponent',\n",
       " 'as_coeff_mul',\n",
       " 'as_coefficient',\n",
       " 'as_coefficients_dict',\n",
       " 'as_content_primitive',\n",
       " 'as_expr',\n",
       " 'as_independent',\n",
       " 'as_leading_term',\n",
       " 'as_numer_denom',\n",
       " 'as_ordered_factors',\n",
       " 'as_ordered_terms',\n",
       " 'as_poly',\n",
       " 'as_powers_dict',\n",
       " 'as_real_imag',\n",
       " 'as_terms',\n",
       " 'assumptions0',\n",
       " 'atoms',\n",
       " 'base',\n",
       " 'cancel',\n",
       " 'canonical_variables',\n",
       " 'class_key',\n",
       " 'coeff',\n",
       " 'collect',\n",
       " 'combsimp',\n",
       " 'compare',\n",
       " 'compute_leading_term',\n",
       " 'conjugate',\n",
       " 'copy',\n",
       " 'could_extract_minus_sign',\n",
       " 'count',\n",
       " 'count_ops',\n",
       " 'default_assumptions',\n",
       " 'diff',\n",
       " 'doit',\n",
       " 'dummy_eq',\n",
       " 'equals',\n",
       " 'evalf',\n",
       " 'exp',\n",
       " 'expand',\n",
       " 'extract_additively',\n",
       " 'extract_branch_factor',\n",
       " 'extract_multiplicatively',\n",
       " 'factor',\n",
       " 'find',\n",
       " 'fourier_series',\n",
       " 'fps',\n",
       " 'free_symbols',\n",
       " 'fromiter',\n",
       " 'func',\n",
       " 'getO',\n",
       " 'getn',\n",
       " 'has',\n",
       " 'integrate',\n",
       " 'invert',\n",
       " 'is_Add',\n",
       " 'is_AlgebraicNumber',\n",
       " 'is_Atom',\n",
       " 'is_Boolean',\n",
       " 'is_Derivative',\n",
       " 'is_Dummy',\n",
       " 'is_Equality',\n",
       " 'is_Float',\n",
       " 'is_Function',\n",
       " 'is_Integer',\n",
       " 'is_Matrix',\n",
       " 'is_Mul',\n",
       " 'is_Not',\n",
       " 'is_Number',\n",
       " 'is_NumberSymbol',\n",
       " 'is_Order',\n",
       " 'is_Piecewise',\n",
       " 'is_Point',\n",
       " 'is_Poly',\n",
       " 'is_Pow',\n",
       " 'is_Rational',\n",
       " 'is_Relational',\n",
       " 'is_Symbol',\n",
       " 'is_Vector',\n",
       " 'is_Wild',\n",
       " 'is_algebraic',\n",
       " 'is_algebraic_expr',\n",
       " 'is_antihermitian',\n",
       " 'is_commutative',\n",
       " 'is_comparable',\n",
       " 'is_complex',\n",
       " 'is_composite',\n",
       " 'is_constant',\n",
       " 'is_even',\n",
       " 'is_finite',\n",
       " 'is_hermitian',\n",
       " 'is_hypergeometric',\n",
       " 'is_imaginary',\n",
       " 'is_infinite',\n",
       " 'is_integer',\n",
       " 'is_irrational',\n",
       " 'is_negative',\n",
       " 'is_noninteger',\n",
       " 'is_nonnegative',\n",
       " 'is_nonpositive',\n",
       " 'is_nonzero',\n",
       " 'is_number',\n",
       " 'is_odd',\n",
       " 'is_polar',\n",
       " 'is_polynomial',\n",
       " 'is_positive',\n",
       " 'is_prime',\n",
       " 'is_rational',\n",
       " 'is_rational_function',\n",
       " 'is_real',\n",
       " 'is_transcendental',\n",
       " 'is_zero',\n",
       " 'leadterm',\n",
       " 'limit',\n",
       " 'lseries',\n",
       " 'match',\n",
       " 'matches',\n",
       " 'n',\n",
       " 'normal',\n",
       " 'nseries',\n",
       " 'nsimplify',\n",
       " 'powsimp',\n",
       " 'primitive',\n",
       " 'radsimp',\n",
       " 'ratsimp',\n",
       " 'rcall',\n",
       " 'refine',\n",
       " 'removeO',\n",
       " 'replace',\n",
       " 'rewrite',\n",
       " 'round',\n",
       " 'separate',\n",
       " 'series',\n",
       " 'simplify',\n",
       " 'sort_key',\n",
       " 'subs',\n",
       " 'taylor_term',\n",
       " 'together',\n",
       " 'transpose',\n",
       " 'trigsimp',\n",
       " 'xreplace']"
      ]
     },
     "execution_count": 104,
     "metadata": {},
     "output_type": "execute_result"
    }
   ],
   "source": [
    "dir(se[1])\n",
    "\n",
    "#se[0].name "
   ]
  }
 ],
 "metadata": {
  "kernelspec": {
   "display_name": "Python 3",
   "language": "python",
   "name": "python3"
  },
  "language_info": {
   "codemirror_mode": {
    "name": "ipython",
    "version": 3
   },
   "file_extension": ".py",
   "mimetype": "text/x-python",
   "name": "python",
   "nbconvert_exporter": "python",
   "pygments_lexer": "ipython3",
   "version": "3.5.3"
  }
 },
 "nbformat": 4,
 "nbformat_minor": 2
}
