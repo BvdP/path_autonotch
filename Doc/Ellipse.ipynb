{
 "cells": [
  {
   "cell_type": "markdown",
   "metadata": {},
   "source": [
    "Matrix equation for ellipse, taken from the Wikipedia page on matrix representation on conic sections.\n",
    "\n",
    "The aim of this document is to map any ellipse, that can be rotated, translated and skewed to a standard ellipse equation."
   ]
  },
  {
   "cell_type": "code",
   "execution_count": null,
   "metadata": {},
   "outputs": [],
   "source": [
    "from sympy import *\n",
    "init_printing(num_columns=120)\n",
    "x, y = symbols('x y')\n",
    "A, B, C, D, E, F = symbols('A B C D E F')"
   ]
  },
  {
   "cell_type": "markdown",
   "metadata": {},
   "source": []
  },
  {
   "cell_type": "code",
   "execution_count": null,
   "metadata": {},
   "outputs": [],
   "source": [
    "Aq = Matrix([\n",
    "    [A, B/2, D/2],\n",
    "    [B/2, C, E/2],\n",
    "    [D/2, E/2, F]\n",
    "]) \n",
    "A33 = Aq.minorMatrix(2, 2)"
   ]
  },
  {
   "cell_type": "code",
   "execution_count": null,
   "metadata": {},
   "outputs": [],
   "source": [
    "d = A33.det()\n",
    "pprint(A33.det())"
   ]
  },
  {
   "cell_type": "markdown",
   "metadata": {},
   "source": [
    "This determinant indicates the type of conic section\n",
    " * d = 0 : parabola\n",
    " * d < 0 : hyperbola\n",
    " * d > 0 : ellipse"
   ]
  },
  {
   "cell_type": "code",
   "execution_count": null,
   "metadata": {},
   "outputs": [],
   "source": [
    "#print(\"Equation\")\n",
    "X = Matrix([x, y, 1])\n",
    "pprint(simplify(X.T * Aq * X))"
   ]
  },
  {
   "cell_type": "markdown",
   "metadata": {},
   "source": [
    "The center of the ellipse is this:"
   ]
  },
  {
   "cell_type": "code",
   "execution_count": null,
   "metadata": {},
   "outputs": [],
   "source": [
    "Ctr = A33.inv() * -Aq[0:2, 2]\n",
    "pprint(Ctr)\n"
   ]
  },
  {
   "cell_type": "markdown",
   "metadata": {},
   "source": [
    "Or try the centered equation of a conic section.\n",
    "xc, yc represents the center of the ellipse so if you subtract it the resulting ellipse will be centered around the origin."
   ]
  },
  {
   "cell_type": "code",
   "execution_count": null,
   "metadata": {},
   "outputs": [],
   "source": [
    "xc, yc = symbols('xc yc')\n",
    "Xc = Matrix([x - xc, y - yc])\n",
    "# cEq = Eq(Xc.T * A33 * Xc, -Aq.det() / A33.det())\n",
    "K = -Aq.det() / A33.det()\n",
    "ce  = Xc.T * A33 * Xc\n",
    "pprint(ce) \n",
    "pprint(K)"
   ]
  },
  {
   "cell_type": "markdown",
   "metadata": {},
   "source": [
    "The math above was exploring some matrix forms of conic sections .Now try the matrix equation for an centered ellipse.\n",
    "\n",
    "\n",
    "These are all in the form of [x, y] * M * [x y].T .\n",
    "\n",
    "The idea is that a transformed ellipse is still an ellipse *(it is right?)*."
   ]
  },
  {
   "cell_type": "code",
   "execution_count": null,
   "metadata": {},
   "outputs": [],
   "source": [
    "print('centered ellipse')\n",
    "# B = D = E = 0, F = -1\n",
    "a, b = symbols('a b')\n",
    "Ace = A33.subs([(A, 1 / a ** 2), (B, 0), (C, 1 / b ** 2)])\n",
    "pprint(Ace)"
   ]
  },
  {
   "cell_type": "markdown",
   "metadata": {},
   "source": [
    "# Rotated centered ellipse.\n",
    "\n",
    "Take the equation from the previous part and rotate it."
   ]
  },
  {
   "cell_type": "code",
   "execution_count": null,
   "metadata": {},
   "outputs": [],
   "source": [
    "al = symbols('al') # actually alpha, angle of rotation\n",
    "a1, b1 = symbols('a1 b1')\n",
    "Tr = Matrix([[cos(al), -sin(al)], [sin(al), cos(al)]])\n",
    "Ar = Tr.T * Ace.subs([(a, a1), (b, b1)]) * Tr\n",
    "pprint(Ar)"
   ]
  },
  {
   "cell_type": "markdown",
   "metadata": {},
   "source": [
    "# Skew transformed version of an ellipse\n"
   ]
  },
  {
   "cell_type": "code",
   "execution_count": null,
   "metadata": {},
   "outputs": [],
   "source": [
    "l = symbols('l') # actually lambda or tan(alpha)\n",
    "a2, b2 = symbols('a2 b2')\n",
    "Tsx = Matrix([[1, l], [0, 1]])\n",
    "Tsy = Matrix([[1, 0], [l, 1]])\n",
    "# now transformed you get (Ts * Xc).T * A33 * Ts * Xc = K' (figure out K')\n",
    "# or Xc.T * Ts.T * A33 * Ts * Xc = K' \n",
    "# in other words the Matrix changes from A33 to Ts.T * A33 * Ts \n",
    "Asy = Tsy.T * Ace.subs([(a, a2), (b, b2)]) * Tsy\n",
    "pprint(Asy)"
   ]
  },
  {
   "cell_type": "markdown",
   "metadata": {},
   "source": [
    "Putting it all together."
   ]
  },
  {
   "cell_type": "code",
   "execution_count": null,
   "metadata": {},
   "outputs": [],
   "source": [
    "lEq = Eq(l, Ar[0, 1] / Ar[1, 1])\n",
    "pprint(lEq)\n",
    "b2Eq = Eq(Asy[1, 1], Ar[1, 1])\n",
    "pprint(b2Eq)\n",
    "a2Eq = Eq(Asy[0, 0], Ar[0, 0])\n",
    "pprint(a2Eq)"
   ]
  },
  {
   "cell_type": "markdown",
   "metadata": {},
   "source": [
    "Now solve these for al, a1, b1.\n",
    "**This is _SLOW_** (takes about 20 min on my 2011 vintage laptop)"
   ]
  },
  {
   "cell_type": "code",
   "execution_count": null,
   "metadata": {},
   "outputs": [],
   "source": [
    "res = solve([lEq, b2Eq, a2Eq], [al, a1, b1])"
   ]
  },
  {
   "cell_type": "code",
   "execution_count": null,
   "metadata": {},
   "outputs": [],
   "source": [
    "#print(res)"
   ]
  },
  {
   "cell_type": "code",
   "execution_count": null,
   "metadata": {},
   "outputs": [],
   "source": [
    "roots1 = solve(b2Eq, al)\n",
    "roots2 = solve(b2Eq, a1)\n",
    "roots3 = solve(b2Eq, b1)\n",
    "\n",
    "pprint(roots1)\n",
    "pprint(roots2)\n",
    "pprint(roots3)"
   ]
  },
  {
   "cell_type": "code",
   "execution_count": null,
   "metadata": {},
   "outputs": [],
   "source": []
  }
 ],
 "metadata": {
  "language_info": {
   "name": "python",
   "pygments_lexer": "ipython3"
  }
 },
 "nbformat": 4,
 "nbformat_minor": 2
}
